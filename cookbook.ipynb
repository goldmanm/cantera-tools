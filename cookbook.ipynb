{
 "cells": [
  {
   "cell_type": "markdown",
   "metadata": {
    "toc": "true"
   },
   "source": [
    "# Table of Contents\n",
    " <p><div class=\"lev1 toc-item\"><a href=\"#Cookbook-for-cantera_tools-module\" data-toc-modified-id=\"Cookbook-for-cantera_tools-module-1\"><span class=\"toc-item-num\">1&nbsp;&nbsp;</span>Cookbook for cantera_tools module</a></div><div class=\"lev2 toc-item\"><a href=\"#running-a-simulation\" data-toc-modified-id=\"running-a-simulation-11\"><span class=\"toc-item-num\">1.1&nbsp;&nbsp;</span>running a simulation</a></div><div class=\"lev3 toc-item\"><a href=\"#run_simulation-example\" data-toc-modified-id=\"run_simulation-example-111\"><span class=\"toc-item-num\">1.1.1&nbsp;&nbsp;</span><code>run_simulation</code> example</a></div><div class=\"lev3 toc-item\"><a href=\"#find_ignition_delay-example\" data-toc-modified-id=\"find_ignition_delay-example-112\"><span class=\"toc-item-num\">1.1.2&nbsp;&nbsp;</span><code>find_ignition_delay</code> example</a></div><div class=\"lev3 toc-item\"><a href=\"#write-your-own-method\" data-toc-modified-id=\"write-your-own-method-113\"><span class=\"toc-item-num\">1.1.3&nbsp;&nbsp;</span>write your own method</a></div><div class=\"lev2 toc-item\"><a href=\"#reducing-a-mechanism-by-reactions\" data-toc-modified-id=\"reducing-a-mechanism-by-reactions-12\"><span class=\"toc-item-num\">1.2&nbsp;&nbsp;</span>reducing a mechanism by reactions</a></div><div class=\"lev2 toc-item\"><a href=\"#analyzing-data\" data-toc-modified-id=\"analyzing-data-13\"><span class=\"toc-item-num\">1.3&nbsp;&nbsp;</span>analyzing data</a></div><div class=\"lev3 toc-item\"><a href=\"#obtaining-reaction-and-species-data\" data-toc-modified-id=\"obtaining-reaction-and-species-data-131\"><span class=\"toc-item-num\">1.3.1&nbsp;&nbsp;</span>obtaining reaction and species data</a></div><div class=\"lev3 toc-item\"><a href=\"#finding-stoichiometric-coefficients\" data-toc-modified-id=\"finding-stoichiometric-coefficients-132\"><span class=\"toc-item-num\">1.3.2&nbsp;&nbsp;</span>finding stoichiometric coefficients</a></div><div class=\"lev2 toc-item\"><a href=\"#analyzing-data\" data-toc-modified-id=\"analyzing-data-14\"><span class=\"toc-item-num\">1.4&nbsp;&nbsp;</span>analyzing data</a></div><div class=\"lev3 toc-item\"><a href=\"#finding-stoichiometric-coefficients\" data-toc-modified-id=\"finding-stoichiometric-coefficients-141\"><span class=\"toc-item-num\">1.4.1&nbsp;&nbsp;</span>finding stoichiometric coefficients</a></div>"
   ]
  },
  {
   "cell_type": "markdown",
   "metadata": {},
   "source": [
    "# Cookbook for cantera_tools module\n",
    "\n",
    "This notebook describes some of the methods in this package and how they can be used."
   ]
  },
  {
   "cell_type": "code",
   "execution_count": 1,
   "metadata": {
    "collapsed": true
   },
   "outputs": [],
   "source": [
    "import cantera_tools as ctt\n",
    "import numpy as np\n",
    "from scipy import integrate\n",
    "import cantera as ct\n",
    "import pandas as pd\n",
    "import matplotlib.pyplot as plt\n",
    "%matplotlib inline"
   ]
  },
  {
   "cell_type": "code",
   "execution_count": 59,
   "metadata": {
    "collapsed": false
   },
   "outputs": [
    {
     "data": {
      "text/plain": [
       "<module 'cantera_tools' from '/home/mark/workspace/tools/cantera_tools.py'>"
      ]
     },
     "execution_count": 59,
     "metadata": {},
     "output_type": "execute_result"
    }
   ],
   "source": [
    "import importlib\n",
    "importlib.reload(ctt)"
   ]
  },
  {
   "cell_type": "markdown",
   "metadata": {},
   "source": [
    "## running a simulation\n",
    "\n",
    "Simulations can be run in two ways: \n",
    "\n",
    "1. using methods like `run_simulation` or `find_ignition_delay` which create the simulation objects and store the data for you\n",
    "2. writing the own simulation objects and saving the data in a more flexible form"
   ]
  },
  {
   "cell_type": "markdown",
   "metadata": {},
   "source": [
    "### `run_simulation` example"
   ]
  },
  {
   "cell_type": "code",
   "execution_count": 61,
   "metadata": {
    "collapsed": false
   },
   "outputs": [],
   "source": [
    "model_link = 'cookbook_files/model2.cti'\n",
    "\n",
    "# creates the cantera Solution object\n",
    "solution = ctt.create_mechanism(model_link)\n",
    "\n",
    "# finds initial mole fraction for a fuel-air ratio of 1 with 30%/70% methanol/propane blend\n",
    "# for non-combustion conditions, this can be replaced by a dictionary of values {'CH3OH': 0.3, 'C3H8':0.7}\n",
    "mole_fractions = {'H2':5, 'O2':1, 'AR': 0.3}\n",
    "\n",
    "# set initial conditions of solution in kelvin pascals and mole fractions\n",
    "conditions = 1000, 10**6, mole_fractions\n",
    "\n",
    "# store 100 times between 10^-8s and 1s, with an initial point at t=0\n",
    "times = np.logspace(-8,0,num=100)\n",
    "times = np.insert(times,0,0)\n",
    "\n",
    "# run the simulation\n",
    "outputs = ctt.run_simulation(solution, conditions, times,\n",
    "                                      condition_type = 'constant-temperature-and-pressure',\n",
    "                                      output_reactions = False,\n",
    "                                      output_directional_reactions = True)\n",
    "\n",
    "# you can combine outputs how you would like with pd.concat\n",
    "result = pd.concat([outputs['conditions'], outputs['species'], outputs['directional_reactions']], axis = 'columns')\n",
    "\n",
    "# data can be saved to avoid rerunning the simulation for data analysis (in most cases)\n",
    "result.to_pickle('cookbook_files/{}.pic'.format('run_simulation_example'))\n",
    "result.to_csv('cookbook_files/{}.csv'.format('run_simulation_example'))"
   ]
  },
  {
   "cell_type": "markdown",
   "metadata": {},
   "source": [
    "### `find_ignition_delay` example"
   ]
  },
  {
   "cell_type": "code",
   "execution_count": 60,
   "metadata": {
    "collapsed": false
   },
   "outputs": [],
   "source": [
    "model_link = 'cookbook_files/model.cti'\n",
    "\n",
    "# creates the cantera Solution object\n",
    "solution = ctt.create_mechanism(model_link)\n",
    "\n",
    "# finds initial mole fraction for a fuel-air ratio of 1 with 30%/70% methanol/propane blend\n",
    "# for non-combustion conditions, this can be replaced by a dictionary of values {'CH3OH': 0.3, 'C3H8':0.7}\n",
    "mole_fractions = ctt.get_initial_mole_fractions(stoich_ratio = 1,\n",
    "                                               fuel_mole_ratios = [.3,.7],\n",
    "                                               oxygen_per_fuel_at_stoich_list = [1.5,5],\n",
    "                                               fuels = ['CH3OH','C3H8'])\n",
    "\n",
    "# set initial conditions of solution in kelvin pascals and mole fractions\n",
    "conditions = 750, 10**6, mole_fractions\n",
    "\n",
    "# run simulation\n",
    "ig_delay, run_data, _ = ctt.find_ignition_delay(solution, conditions,\n",
    "                                               output_profile = True,\n",
    "                                               skip_data = 1000)\n",
    "\n",
    "\n",
    "# data can be saved to avoid rerunning the simulation for data analysis (in most cases)\n",
    "run_data.to_pickle('cookbook_files/{}.pic'.format('find_ignition_delay_example'))"
   ]
  },
  {
   "cell_type": "markdown",
   "metadata": {},
   "source": [
    "### write your own method\n",
    "\n",
    "If neither of these methods work for you, you can find the source code of either method and modify it to your needs."
   ]
  },
  {
   "cell_type": "markdown",
   "metadata": {},
   "source": [
    "## reducing a mechanism by reactions\n",
    "The modules can create a reduced mechanism given a list of desired reaction strings, using how cantera represents the reaction strings (this can be found by `solution.reaction_equations()`). It will remove any unused species as well."
   ]
  },
  {
   "cell_type": "code",
   "execution_count": 7,
   "metadata": {
    "collapsed": true
   },
   "outputs": [],
   "source": [
    "desired_reactions = ['CH3OH + O2 <=> CH2OH(29) + HO2(12)',\n",
    " 'C3H8 + O2 <=> C3H7(61) + HO2(12)',\n",
    " 'C3H8 + O2 <=> C3H7(60) + HO2(12)',\n",
    " 'CH3OH + OH(10) <=> CH2OH(29) + H2O(11)',\n",
    " 'C3H8 + OH(10) <=> C3H7(60) + H2O(11)',\n",
    " 'C3H8 + OH(10) <=> C3H7(61) + H2O(11)',\n",
    " 'CH3OH + HO2(12) <=> CH2OH(29) + H2O2(13)',\n",
    " 'C3H8 + HO2(12) <=> C3H7(61) + H2O2(13)',\n",
    " 'C3H8 + HO2(12) <=> C3H7(60) + H2O2(13)',\n",
    " 'C3H7(60) + O2 <=> C3H7O2(78)',\n",
    " 'C3H7(61) + O2 <=> C3H7O2(80)',]\n",
    "\n",
    "# make the reduced mechanism using the full mechanism `.cti` file.\n",
    "solution_reduced = ctt.create_mechanism(model_link, kept_reaction_equations=desired_reactions)\n",
    "\n",
    "# NOTE: this cantera Solution object can now be used like any other"
   ]
  },
  {
   "cell_type": "markdown",
   "metadata": {
    "collapsed": true
   },
   "source": [
    "## analyzing data\n",
    "### obtaining reaction and species data"
   ]
  },
  {
   "cell_type": "code",
   "execution_count": 10,
   "metadata": {
    "collapsed": true
   },
   "outputs": [],
   "source": [
    "# this outputs a dataframe of just species\n",
    "data_species = ctt.find_species(df)\n",
    "\n",
    "# this outputs a dataframe of just reactions\n",
    "data_reactions = ctt.find_reactions(df)\n",
    "\n",
    "# this outputs a dataframe with just reactions involving methanol\n",
    "reactions_with_methanol = ctt.find_reactions(df,species = 'CH3OH')"
   ]
  },
  {
   "cell_type": "markdown",
   "metadata": {
    "collapsed": true
   },
   "source": [
    "### finding stoichiometric coefficients"
   ]
  },
  {
   "cell_type": "code",
   "execution_count": 8,
   "metadata": {
    "collapsed": false
   },
   "outputs": [
    {
     "data": {
      "text/plain": [
       "1.0"
      ]
     },
     "execution_count": 8,
     "metadata": {},
     "output_type": "execute_result"
    }
   ],
   "source": [
    "# this is wrapper function that outputs the stoichiometric coefficient given reaction strings:\n",
    "ctt.obtain_stoichiometry_of_species(solution,'CH2OH(29)','CH3OH + HO2(12) <=> CH2OH(29) + H2O2(13)')"
   ]
  },
  {
   "cell_type": "code",
   "execution_count": 27,
   "metadata": {
    "collapsed": false,
    "scrolled": true
   },
   "outputs": [
    {
     "ename": "Exception",
     "evalue": "No reactions found for species CH2OH(29)",
     "output_type": "error",
     "traceback": [
      "\u001b[0;31m---------------------------------------------------------------------------\u001b[0m",
      "\u001b[0;31mException\u001b[0m                                 Traceback (most recent call last)",
      "\u001b[0;32m<ipython-input-27-1c2f8df1a9b2>\u001b[0m in \u001b[0;36m<module>\u001b[0;34m()\u001b[0m\n\u001b[1;32m      1\u001b[0m \u001b[0;31m# it can also deal with a list of reactions\u001b[0m\u001b[0;34m\u001b[0m\u001b[0;34m\u001b[0m\u001b[0m\n\u001b[0;32m----> 2\u001b[0;31m \u001b[0mreactions_with_species\u001b[0m \u001b[0;34m=\u001b[0m \u001b[0mctt\u001b[0m\u001b[0;34m.\u001b[0m\u001b[0mfind_reactions\u001b[0m\u001b[0;34m(\u001b[0m\u001b[0mdf\u001b[0m\u001b[0;34m,\u001b[0m\u001b[0;34m'CH2OH(29)'\u001b[0m\u001b[0;34m)\u001b[0m\u001b[0;34m\u001b[0m\u001b[0m\n\u001b[0m\u001b[1;32m      3\u001b[0m \u001b[0mctt\u001b[0m\u001b[0;34m.\u001b[0m\u001b[0mobtain_stoichiometry_of_species\u001b[0m\u001b[0;34m(\u001b[0m\u001b[0msolution\u001b[0m\u001b[0;34m,\u001b[0m\u001b[0;34m'CH2OH(29)'\u001b[0m\u001b[0;34m,\u001b[0m\u001b[0mreactions_with_species\u001b[0m\u001b[0;34m)\u001b[0m\u001b[0;34m\u001b[0m\u001b[0m\n",
      "\u001b[0;32m/home/mark/workspace/tools/cantera_tools.py\u001b[0m in \u001b[0;36mfind_reactions\u001b[0;34m(df, species)\u001b[0m\n\u001b[1;32m    358\u001b[0m     \u001b[0mdf_my_reactions\u001b[0m \u001b[0;34m=\u001b[0m \u001b[0mdf_reactions\u001b[0m\u001b[0;34m.\u001b[0m\u001b[0mloc\u001b[0m\u001b[0;34m[\u001b[0m\u001b[0;34m:\u001b[0m\u001b[0;34m,\u001b[0m\u001b[0;34m[\u001b[0m\u001b[0mre\u001b[0m\u001b[0;34m.\u001b[0m\u001b[0mcompile\u001b[0m\u001b[0;34m(\u001b[0m\u001b[0mexpression\u001b[0m\u001b[0;34m)\u001b[0m\u001b[0;34m.\u001b[0m\u001b[0msearch\u001b[0m\u001b[0;34m(\u001b[0m\u001b[0mcolumn\u001b[0m\u001b[0;34m)\u001b[0m \u001b[0;34m!=\u001b[0m \u001b[0;32mNone\u001b[0m \u001b[0;32mfor\u001b[0m \u001b[0mcolumn\u001b[0m \u001b[0;32min\u001b[0m \u001b[0mdf_reactions\u001b[0m\u001b[0;34m.\u001b[0m\u001b[0mcolumns\u001b[0m\u001b[0;34m]\u001b[0m\u001b[0;34m]\u001b[0m\u001b[0;34m\u001b[0m\u001b[0m\n\u001b[1;32m    359\u001b[0m     \u001b[0;32mif\u001b[0m \u001b[0mdf_my_reactions\u001b[0m\u001b[0;34m.\u001b[0m\u001b[0mempty\u001b[0m\u001b[0;34m:\u001b[0m\u001b[0;34m\u001b[0m\u001b[0m\n\u001b[0;32m--> 360\u001b[0;31m         \u001b[0;32mraise\u001b[0m \u001b[0mException\u001b[0m\u001b[0;34m(\u001b[0m\u001b[0;34m'No reactions found for species {}'\u001b[0m\u001b[0;34m.\u001b[0m\u001b[0mformat\u001b[0m\u001b[0;34m(\u001b[0m\u001b[0mspecies\u001b[0m\u001b[0;34m)\u001b[0m\u001b[0;34m)\u001b[0m\u001b[0;34m\u001b[0m\u001b[0m\n\u001b[0m\u001b[1;32m    361\u001b[0m     \u001b[0;32mreturn\u001b[0m \u001b[0mdf_my_reactions\u001b[0m\u001b[0;34m\u001b[0m\u001b[0m\n\u001b[1;32m    362\u001b[0m \u001b[0;34m\u001b[0m\u001b[0m\n",
      "\u001b[0;31mException\u001b[0m: No reactions found for species CH2OH(29)"
     ]
    }
   ],
   "source": [
    "# methods can also deal with a list of reactions\n",
    "reactions_with_species = ctt.find_reactions(df,'CH2OH(29)')\n",
    "ctt.obtain_stoichiometry_of_species(solution,'CH2OH(29)',reactions_with_species)"
   ]
  }
 ],
 "metadata": {
  "kernelspec": {
   "display_name": "Python 3",
   "language": "python",
   "name": "python3"
  },
  "language_info": {
   "codemirror_mode": {
    "name": "ipython",
    "version": 3
   },
   "file_extension": ".py",
   "mimetype": "text/x-python",
   "name": "python",
   "nbconvert_exporter": "python",
   "pygments_lexer": "ipython3",
   "version": "3.4.5"
  },
  "toc": {
   "nav_menu": {
    "height": "171px",
    "width": "252px"
   },
   "navigate_menu": true,
   "number_sections": true,
   "sideBar": true,
   "threshold": 4,
   "toc_cell": true,
   "toc_position": {
    "height": "702px",
    "left": "0px",
    "right": "1228px",
    "top": "106px",
    "width": "212px"
   },
   "toc_section_display": "block",
   "toc_window_display": true
  }
 },
 "nbformat": 4,
 "nbformat_minor": 1
}
